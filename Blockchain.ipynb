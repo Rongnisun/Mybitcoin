{
  "nbformat": 4,
  "nbformat_minor": 0,
  "metadata": {
    "colab": {
      "provenance": [],
      "authorship_tag": "ABX9TyPXyoQ+Lmr2bVIDbH+ko8SP",
      "include_colab_link": true
    },
    "kernelspec": {
      "name": "python3",
      "display_name": "Python 3"
    },
    "language_info": {
      "name": "python"
    }
  },
  "cells": [
    {
      "cell_type": "markdown",
      "metadata": {
        "id": "view-in-github",
        "colab_type": "text"
      },
      "source": [
        "<a href=\"https://colab.research.google.com/github/Rongnisun/Mybitcoin/blob/master/Blockchain.ipynb\" target=\"_parent\"><img src=\"https://colab.research.google.com/assets/colab-badge.svg\" alt=\"Open In Colab\"/></a>"
      ]
    },
    {
      "cell_type": "code",
      "source": [
        "import datetime\n",
        "import json\n",
        "import hashlib\n",
        "from flask import Flask\n",
        "class Blockchain:\n",
        "    def __init__(self):\n",
        "        # เก็บกลุ่ม block\n",
        "        self.chain = []  # list ที่เก็บ block\n",
        "        # genesis block\n",
        "        self.create_block(nonce=1, previous_hash=\"0\")\n",
        "        self.create_block(nonce=10, previous_hash=\"100\")\n",
        "\n",
        "    # สร้าง block ขึ้นมาในระบบ block chain\n",
        "    def create_block(self, nonce, previous_hash):\n",
        "        # เก็บส่วนประกอบของ block แต่ละ block\n",
        "        block = {\n",
        "            \"index\": len(self.chain) + 1,\n",
        "            \"timestamp\": str(datetime.datetime.now()),\n",
        "            \"nonce\": nonce,\n",
        "            \"previous_hash\": previous_hash\n",
        "        }\n",
        "        self.chain.append(block)\n",
        "        return block\n",
        "\n",
        "    # ให้บริการ block ก่อนหน้า\n",
        "    def get_previous_block(self):\n",
        "        return self.chain[-1]\n",
        "    #เข้ารหัส block\n",
        "    def hash(self,block):\n",
        "        #แปลง python object (dict) =>json object\n",
        "        encode_block=json.dumps(block,sort_keys=True).encode()\n",
        "        #sha-256\n",
        "        return hashlib.sha256(encode_block).hexdigest()\n",
        "\n",
        "    def proof_of_work(self,previous_nonce):\n",
        "        #อยากได้ค่า nonce ที่ส่งผลให้ได้ target hash => 4หลักแรก 0000\n",
        "        new_nonce=1#ค่า nonce ที่ต้องการ\n",
        "        check_proof = False#ตัวแปลที่เช็คค่า nonce ให้ได้ตาม target ที่กำหนด\n",
        "\n",
        "        #แก้โจทย์ทางคณิตศาสาตร์\n",
        "        while check_proof is False:\n",
        "        #เลขฐาน 16 มา 1 ชุด\n",
        "            hash_operation = hashlib.sha256(str(new_nonce**2 - previous_nonce**2).encode()).hexdigest()\n",
        "\n",
        "            if hash_operation[:4] == \"0000\":\n",
        "                check_proof = True\n",
        "            else:\n",
        "                new_nonce+=1\n",
        "        return new_nonce\n",
        "\n",
        "#web server\n",
        "app = Flask(__name__)\n",
        "# ใช้งาน blockchain\n",
        "blockchain = Blockchain()\n",
        "\n",
        "#routing\n",
        "@app.route('/')\n",
        "def hello():\n",
        "    return \"<p>hello Blockchain</p>\"\n",
        "\n",
        "#run server\n",
        "if __name__ ==\"__main__\":\n",
        "    app.run()"
      ],
      "metadata": {
        "id": "1hilZUCOOMWD"
      },
      "execution_count": null,
      "outputs": []
    }
  ]
}