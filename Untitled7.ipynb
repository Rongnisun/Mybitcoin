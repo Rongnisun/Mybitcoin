{
  "nbformat": 4,
  "nbformat_minor": 0,
  "metadata": {
    "colab": {
      "name": "Untitled7.ipynb",
      "provenance": [],
      "authorship_tag": "ABX9TyPAzwYniudrRM+Wx4qXKVuZ",
      "include_colab_link": true
    },
    "kernelspec": {
      "name": "python3",
      "display_name": "Python 3"
    },
    "language_info": {
      "name": "python"
    }
  },
  "cells": [
    {
      "cell_type": "markdown",
      "metadata": {
        "id": "view-in-github",
        "colab_type": "text"
      },
      "source": [
        "<a href=\"https://colab.research.google.com/github/Rongnisun/Mybitcoin/blob/master/Untitled7.ipynb\" target=\"_parent\"><img src=\"https://colab.research.google.com/assets/colab-badge.svg\" alt=\"Open In Colab\"/></a>"
      ]
    },
    {
      "cell_type": "code",
      "execution_count": null,
      "metadata": {
        "id": "zbRmZx3yUSXW"
      },
      "outputs": [],
      "source": [
        "\n",
        "\n",
        "private key = input (\"\")\n",
        "\n",
        "\n",
        "Private_key = bytes.fromhex(private_key)\n",
        "signing_key = ecdsa.SigningKey.from_string(Private_key, curve = ecdsa.SECP256k1)\n",
        "verifying_key = signing_key.get_verifying_key()\n",
        "public_key = bytes.fromhex(\"04\") + verifying_key.to_string()\n",
        "sha256_1 = hashlib.sha256(public_key)\n",
        "ripemd160 = hashlib.new(\"ripemd160\")\n",
        "ripemd160.update(sha256_1.digest())\n",
        "hashed_public_key = bytes.fromhex(\"00\") + ripemd160.digest()\n",
        "checksum_full = hashlib.sha256(hashlib.sha256(hashed_public_key).digest()).digest()\n",
        "checksum = checksum_full[:4]\n",
        "bin_addr = hashed_public_key + checksum\n",
        "FINALE_BTC_ADDRESS = base58.b58encode(bin_addr)\n",
        "private_key1 = \"80\"+private_key\n",
        "Private_key1 = bytes.fromhex(private_key1)\n",
        "check = hashlib.sha256(hashlib.sha256(Private_key1).digest()).digest()\n",
        "cs = check[:4]\n",
        "wif = Private_key1 + cs\n",
        "address = base58.b58encode(wif)"
      ]
    }
  ]
}